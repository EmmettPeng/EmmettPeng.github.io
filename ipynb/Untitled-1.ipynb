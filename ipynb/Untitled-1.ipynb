{
 "cells": [
  {
   "cell_type": "markdown",
   "metadata": {},
   "source": [
    "# Pandas入门笔记(2)\n",
    "\n",
    "从今天开始更新Pandas基础语法笔记，之前一直都是零零散散的用的，打算每天花一段时间系统记录一下pandas的基本语法。\n",
    "主要参考了bilibili的up主[@蚂蚁学python](https://space.bilibili.com/61036655)的视频[Python Pandas 数据分析，编程练习100例](https://www.bilibili.com/video/BV1Nq4y1Z7Q8?p=4&vd_source=708323e5553f1c0b8879d3d65a98b898)和[W3Cschool的Pandas中文教程](https://www.w3cschool.cn/hyspo/)。\n",
    "\n",
    "前两个部分学习的基本上都是一些pandas的基本操作，从这一节开始操作会开始付杂一些，也需要更多的时间去理解记忆。从笔记的角度，不打算继续使用之前那种的段落式，跟着视频的内容用jupyter notebook进行实践，并且把实操、思路和结果都放在这里吧。\n",
    "\n",
    "这一部分数据使用的是电信客户流失数据（Churn），这里提供一下这个文件的下载地址。"
   ]
  },
  {
   "cell_type": "code",
   "execution_count": 1,
   "metadata": {},
   "outputs": [
    {
     "name": "stdout",
     "output_type": "stream",
     "text": [
      "   customerID  gender  SeniorCitizen Partner Dependents  tenure PhoneService  \\\n",
      "0  7590-VHVEG  Female              0     Yes         No       1           No   \n",
      "1  5575-GNVDE    Male              0      No         No      34          Yes   \n",
      "2  3668-QPYBK    Male              0      No         No       2          Yes   \n",
      "3  7795-CFOCW    Male              0      No         No      45           No   \n",
      "4  9237-HQITU  Female              0      No         No       2          Yes   \n",
      "5  9305-CDSKC  Female              0      No         No       8          Yes   \n",
      "6  1452-KIOVK    Male              0      No        Yes      22          Yes   \n",
      "7  6713-OKOMC  Female              0      No         No      10           No   \n",
      "8  7892-POOKP  Female              0     Yes         No      28          Yes   \n",
      "9  6388-TABGU    Male              0      No        Yes      62          Yes   \n",
      "\n",
      "      MultipleLines InternetService OnlineSecurity  ... DeviceProtection  \\\n",
      "0  No phone service             DSL             No  ...               No   \n",
      "1                No             DSL            Yes  ...              Yes   \n",
      "2                No             DSL            Yes  ...               No   \n",
      "3  No phone service             DSL            Yes  ...              Yes   \n",
      "4                No     Fiber optic             No  ...               No   \n",
      "5               Yes     Fiber optic             No  ...              Yes   \n",
      "6               Yes     Fiber optic             No  ...               No   \n",
      "7  No phone service             DSL            Yes  ...               No   \n",
      "8               Yes     Fiber optic             No  ...              Yes   \n",
      "9                No             DSL            Yes  ...               No   \n",
      "\n",
      "  TechSupport StreamingTV StreamingMovies        Contract PaperlessBilling  \\\n",
      "0          No          No              No  Month-to-month              Yes   \n",
      "1          No          No              No        One year               No   \n",
      "2          No          No              No  Month-to-month              Yes   \n",
      "3         Yes          No              No        One year               No   \n",
      "4          No          No              No  Month-to-month              Yes   \n",
      "5          No         Yes             Yes  Month-to-month              Yes   \n",
      "6          No         Yes              No  Month-to-month              Yes   \n",
      "7          No          No              No  Month-to-month               No   \n",
      "8         Yes         Yes             Yes  Month-to-month              Yes   \n",
      "9          No          No              No        One year               No   \n",
      "\n",
      "               PaymentMethod MonthlyCharges  TotalCharges Churn  \n",
      "0           Electronic check          29.85         29.85    No  \n",
      "1               Mailed check          56.95        1889.5    No  \n",
      "2               Mailed check          53.85        108.15   Yes  \n",
      "3  Bank transfer (automatic)          42.30       1840.75    No  \n",
      "4           Electronic check          70.70        151.65   Yes  \n",
      "5           Electronic check          99.65         820.5   Yes  \n",
      "6    Credit card (automatic)          89.10        1949.4    No  \n",
      "7               Mailed check          29.75         301.9    No  \n",
      "8           Electronic check         104.80       3046.05   Yes  \n",
      "9  Bank transfer (automatic)          56.15       3487.95    No  \n",
      "\n",
      "[10 rows x 21 columns]\n"
     ]
    }
   ],
   "source": [
    "# 导入文件\n",
    "import pandas as pd\n",
    "\n",
    "df = pd.read_csv('/Users/emmett/Downloads/tel_data.csv')\n",
    "print(df.head(10))"
   ]
  }
 ],
 "metadata": {
  "kernelspec": {
   "display_name": "base",
   "language": "python",
   "name": "python3"
  },
  "language_info": {
   "codemirror_mode": {
    "name": "ipython",
    "version": 3
   },
   "file_extension": ".py",
   "mimetype": "text/x-python",
   "name": "python",
   "nbconvert_exporter": "python",
   "pygments_lexer": "ipython3",
   "version": "3.10.9"
  }
 },
 "nbformat": 4,
 "nbformat_minor": 2
}
